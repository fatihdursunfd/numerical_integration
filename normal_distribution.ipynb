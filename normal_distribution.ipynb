{
  "nbformat": 4,
  "nbformat_minor": 0,
  "metadata": {
    "colab": {
      "name": "normal_distribution.ipynb",
      "provenance": [],
      "authorship_tag": "ABX9TyOiaZwsK/v0BJSzshzbb+7q",
      "include_colab_link": true
    },
    "kernelspec": {
      "name": "python3",
      "display_name": "Python 3"
    }
  },
  "cells": [
    {
      "cell_type": "markdown",
      "metadata": {
        "id": "view-in-github",
        "colab_type": "text"
      },
      "source": [
        "<a href=\"https://colab.research.google.com/github/fatihdursunfd/numerical_integration/blob/fd/normal_distribution.ipynb\" target=\"_parent\"><img src=\"https://colab.research.google.com/assets/colab-badge.svg\" alt=\"Open In Colab\"/></a>"
      ]
    },
    {
      "cell_type": "code",
      "metadata": {
        "id": "7uLucws-ldAE"
      },
      "source": [
        "import numpy as np\n",
        "import matplotlib.pyplot as plt"
      ],
      "execution_count": 2,
      "outputs": []
    },
    {
      "cell_type": "code",
      "metadata": {
        "colab": {
          "base_uri": "https://localhost:8080/"
        },
        "id": "zXC7XVI-woAt",
        "outputId": "5c541275-bd79-4a5e-faa6-884444e7416d"
      },
      "source": [
        "print(np.pi)"
      ],
      "execution_count": 3,
      "outputs": [
        {
          "output_type": "stream",
          "text": [
            "3.141592653589793\n"
          ],
          "name": "stdout"
        }
      ]
    },
    {
      "cell_type": "code",
      "metadata": {
        "id": "BD8pmJx-lrTR"
      },
      "source": [
        "def plot_normal_distribution(mean,std):\n",
        "  \n",
        "  X = np.linspace(-5,5,100)\n",
        "  n = 1 / (std * np.sqrt(2 * np.pi))\n",
        "  p = np.square(X - mean) / (2 * std * std)\n",
        "  nd = n * np.exp(-p)\n",
        "\n",
        "  plt.plot(X,nd)\n",
        "  plt.show()"
      ],
      "execution_count": 4,
      "outputs": []
    },
    {
      "cell_type": "code",
      "metadata": {
        "id": "UpIj63t7iU8l"
      },
      "source": [
        "def normal_distribution(mean,std,x):\n",
        "\n",
        "  n = 1 / (std * np.sqrt(2 * np.pi))\n",
        "  p = np.square(x - mean) / (2 * std * std)\n",
        "  nd = n * np.exp(-p)\n",
        "\n",
        "  return nd"
      ],
      "execution_count": 5,
      "outputs": []
    },
    {
      "cell_type": "code",
      "metadata": {
        "colab": {
          "base_uri": "https://localhost:8080/",
          "height": 265
        },
        "id": "QQ3kztkTjCwR",
        "outputId": "06ff0ad7-7120-4f34-b37c-fc0009200d4d"
      },
      "source": [
        "plot_normal_distribution(mean,std)"
      ],
      "execution_count": 7,
      "outputs": [
        {
          "output_type": "display_data",
          "data": {
            "image/png": "[encoded data removed]",
            "text/plain": [
              "<Figure size 432x288 with 1 Axes>"
            ]
          },
          "metadata": {
            "tags": [],
            "needs_background": "light"
          }
        }
      ]
    },
    {
      "cell_type": "code",
      "metadata": {
        "id": "E0NfKFFSjHFc"
      },
      "source": [
        "def simpsons_rule(up,down,n):\n",
        "\n",
        "  delta_x = (up - down) / n\n",
        "  f = delta_x / 3\n",
        "\n",
        "  x = np.linspace(down,up,n+1)\n",
        "\n",
        "  c = np.array([1])\n",
        "  for i in range(n-1):\n",
        "    if i%2 == 0 :\n",
        "      c = np.append(c,4)\n",
        "    else :\n",
        "      c = np.append(c,2)\n",
        "  c = np.append(c,1)\n",
        "\n",
        "  fx = [normal_distribution(mean,std,x[i]) * c[i] for i in range(len(x))]\n",
        "\n",
        "  return sum(fx) * f\n"
      ],
      "execution_count": 8,
      "outputs": []
    },
    {
      "cell_type": "code",
      "metadata": {
        "colab": {
          "base_uri": "https://localhost:8080/"
        },
        "id": "VGo2T36NjRQT",
        "outputId": "fc94301a-f615-44f4-effa-1f94b5e02ae6"
      },
      "source": [
        "up = 2\n",
        "down = -2\n",
        "n = 10\n",
        "\n",
        "integral = simpsons_rule(up,down,n)\n",
        "print(\"integral : \",integral)"
      ],
      "execution_count": 9,
      "outputs": [
        {
          "output_type": "stream",
          "text": [
            "integral :  0.9544633247074344\n"
          ],
          "name": "stdout"
        }
      ]
    },
    {
      "cell_type": "code",
      "metadata": {
        "id": "eoQK26Goz8pS"
      },
      "source": [
        ""
      ],
      "execution_count": null,
      "outputs": []
    }
  ]
}