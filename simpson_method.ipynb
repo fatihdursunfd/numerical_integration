{
  "nbformat": 4,
  "nbformat_minor": 0,
  "metadata": {
    "colab": {
      "name": "simpson_method.ipynb",
      "provenance": [],
      "collapsed_sections": [],
      "authorship_tag": "ABX9TyOnHgqSFenx7lv4KBBHNDEk",
      "include_colab_link": true
    },
    "kernelspec": {
      "name": "python3",
      "display_name": "Python 3"
    }
  },
  "cells": [
    {
      "cell_type": "markdown",
      "metadata": {
        "id": "view-in-github",
        "colab_type": "text"
      },
      "source": [
        "<a href=\"https://colab.research.google.com/github/fatihdursunfd/numerical_integration/blob/fd/simpson_method.ipynb\" target=\"_parent\"><img src=\"https://colab.research.google.com/assets/colab-badge.svg\" alt=\"Open In Colab\"/></a>"
      ]
    },
    {
      "cell_type": "code",
      "metadata": {
        "id": "7uLucws-ldAE"
      },
      "source": [
        "import numpy as np\n",
        "import matplotlib.pyplot as plt"
      ],
      "execution_count": null,
      "outputs": []
    },
    {
      "cell_type": "code",
      "metadata": {
        "id": "zXC7XVI-woAt"
      },
      "source": [
        "mean = 0\n",
        "std = 1"
      ],
      "execution_count": null,
      "outputs": []
    },
    {
      "cell_type": "code",
      "metadata": {
        "id": "BD8pmJx-lrTR"
      },
      "source": [
        "def plot_normal_distribution(mean,std):\n",
        "  \n",
        "  X = np.linspace(-5,5,100)\n",
        "  n = 1 / (std * np.sqrt(2 * np.pi))\n",
        "  p = np.square(X - mean) / (2 * std * std)\n",
        "  nd = n * np.exp(-p)\n",
        "\n",
        "  plt.plot(X,nd)\n",
        "  plt.show()"
      ],
      "execution_count": null,
      "outputs": []
    },
    {
      "cell_type": "code",
      "metadata": {
        "id": "UpIj63t7iU8l"
      },
      "source": [
        "def normal_distribution(mean,std,x):\n",
        "\n",
        "  n = 1 / (std * np.sqrt(2 * np.pi))\n",
        "  p = np.square(x - mean) / (2 * std * std)\n",
        "  nd = n * np.exp(-p)\n",
        "\n",
        "  return nd"
      ],
      "execution_count": null,
      "outputs": []
    },
    {
      "cell_type": "code",
      "metadata": {
        "colab": {
          "base_uri": "https://localhost:8080/",
          "height": 265
        },
        "id": "QQ3kztkTjCwR",
        "outputId": "5dce32c5-c1cb-4516-dc73-c5434373c745"
      },
      "source": [
        "plot_normal_distribution(mean,std)"
      ],
      "execution_count": null,
      "outputs": [
        {
          "output_type": "display_data",
          "data": {
            "image/png": "[encoded data removed]",
            "text/plain": [
              "<Figure size 432x288 with 1 Axes>"
            ]
          },
          "metadata": {
            "tags": [],
            "needs_background": "light"
          }
        }
      ]
    },
    {
      "cell_type": "code",
      "metadata": {
        "id": "E0NfKFFSjHFc"
      },
      "source": [
        "def simpsons_rule(up,down,n):\n",
        "\n",
        "  delta_x = (up - down) / n\n",
        "  f = delta_x / 3\n",
        "\n",
        "  x = np.linspace(down,up,n+1)\n",
        "\n",
        "  c = np.array([1])\n",
        "  for i in range(n-1):\n",
        "    if i%2 == 0 :\n",
        "      c = np.append(c,4)\n",
        "    else :\n",
        "      c = np.append(c,2)\n",
        "  c = np.append(c,1)\n",
        "\n",
        "  fx = [normal_distribution(mean,std,x[i]) * c[i] for i in range(len(x))]\n",
        "\n",
        "  return sum(fx) * f\n"
      ],
      "execution_count": null,
      "outputs": []
    },
    {
      "cell_type": "code",
      "metadata": {
        "colab": {
          "base_uri": "https://localhost:8080/"
        },
        "id": "VGo2T36NjRQT",
        "outputId": "6404e0f8-442c-4b1d-a5a4-3b5b7c26828d"
      },
      "source": [
        "up = 2\n",
        "low = -2\n",
        "n = 10\n",
        "\n",
        "integral = simpsons_rule(up,low,n)\n",
        "print(\"integral : \",integral)"
      ],
      "execution_count": null,
      "outputs": [
        {
          "output_type": "stream",
          "text": [
            "integral :  0.9544633247074344\n"
          ],
          "name": "stdout"
        }
      ]
    },
    {
      "cell_type": "code",
      "metadata": {
        "id": "eoQK26Goz8pS"
      },
      "source": [
        "cdf = np.array([])\n",
        "\n",
        "integral = 0\n",
        "\n",
        "interval = 0.01 \n",
        "low = -5\n",
        "up = low + interval "
      ],
      "execution_count": null,
      "outputs": []
    },
    {
      "cell_type": "code",
      "metadata": {
        "id": "D_yKIuN7e5_4"
      },
      "source": [
        "while(up < 5):\n",
        "\n",
        "  integral = integral + simpsons_rule(up,low,n)\n",
        "  cdf = np.append(cdf , integral)\n",
        "\n",
        "  low = up\n",
        "  up = up + interval"
      ],
      "execution_count": null,
      "outputs": []
    },
    {
      "cell_type": "code",
      "metadata": {
        "colab": {
          "base_uri": "https://localhost:8080/",
          "height": 265
        },
        "id": "f7QYlId_fw31",
        "outputId": "5900c3d3-3e9f-47f3-b334-2b60d804ecb4"
      },
      "source": [
        "X = np.linspace(-5,5,int(10/interval))\n",
        "\n",
        "plt.plot(X,cdf)\n",
        "plt.show()"
      ],
      "execution_count": null,
      "outputs": [
        {
          "output_type": "display_data",
          "data": {
            "image/png": "[encoded data removed]",
            "text/plain": [
              "<Figure size 432x288 with 1 Axes>"
            ]
          },
          "metadata": {
            "tags": [],
            "needs_background": "light"
          }
        }
      ]
    }
  ]
}